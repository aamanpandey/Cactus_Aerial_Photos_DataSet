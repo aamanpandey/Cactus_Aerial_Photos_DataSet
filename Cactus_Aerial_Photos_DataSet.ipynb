{
  "nbformat": 4,
  "nbformat_minor": 0,
  "metadata": {
    "colab": {
      "name": "Cactus Aerial Photos DataSet.ipynb",
      "provenance": []
    },
    "kernelspec": {
      "name": "python3",
      "display_name": "Python 3"
    }
  },
  "cells": [
    {
      "cell_type": "markdown",
      "metadata": {
        "id": "7DYTwtyrQtkR",
        "colab_type": "text"
      },
      "source": [
        "# ***Cactus Aerial Photos DataSet***"
      ]
    },
    {
      "cell_type": "markdown",
      "metadata": {
        "id": "rYJdo8g1RJFO",
        "colab_type": "text"
      },
      "source": [
        "In this dataset, we are presenting more than 16,000 examples of a columnar cacti (Neobuxbaumia tetetzo) for plant recognition or classification.\n",
        "\n"
      ]
    },
    {
      "cell_type": "code",
      "metadata": {
        "id": "ZCx9fOzIFSAr",
        "colab_type": "code",
        "colab": {}
      },
      "source": [
        "import pandas as pd\n",
        "import numpy as np\n",
        "import os\n",
        "import matplotlib.pyplot as plot\n",
        "import cv2\n",
        "import numpy as np\n",
        "from sklearn.utils import shuffle\n",
        "from sklearn.metrics import confusion_matrix as CM\n",
        "from random import randint\n",
        "from IPython.display import SVG\n",
        "import matplotlib.gridspec as gridspec"
      ],
      "execution_count": 1,
      "outputs": []
    },
    {
      "cell_type": "code",
      "metadata": {
        "id": "FkEhNdrmQo_Z",
        "colab_type": "code",
        "colab": {
          "base_uri": "https://localhost:8080/",
          "height": 35
        },
        "outputId": "1e1c7852-19aa-476d-8ee5-5e9b3e333579"
      },
      "source": [
        "import zipfile\n",
        "\n",
        "\n",
        "zip_files = ['124738_300689_bundle_archive']\n",
        "# Will unzip the files so that you can see them..\n",
        "for zip_file in zip_files:\n",
        "    with zipfile.ZipFile(\"{}.zip\".format(zip_file),\"r\") as z:\n",
        "        z.extractall(\".\")\n",
        "        print(\"{} unzipped\".format(zip_file))"
      ],
      "execution_count": 2,
      "outputs": [
        {
          "output_type": "stream",
          "text": [
            "124738_300689_bundle_archive unzipped\n"
          ],
          "name": "stdout"
        }
      ]
    },
    {
      "cell_type": "markdown",
      "metadata": {
        "id": "awJU7cKfR4ah",
        "colab_type": "text"
      },
      "source": [
        "# Data Preprocessing"
      ]
    },
    {
      "cell_type": "code",
      "metadata": {
        "id": "iBGaSrVWSCuq",
        "colab_type": "code",
        "colab": {}
      },
      "source": [
        "train_dir= '/content/training_set/training_set'\n",
        "valid_dir = '/content/validation_set/validation_set'"
      ],
      "execution_count": 28,
      "outputs": []
    },
    {
      "cell_type": "code",
      "metadata": {
        "id": "rmsC2QkPQpI0",
        "colab_type": "code",
        "colab": {
          "base_uri": "https://localhost:8080/",
          "height": 52
        },
        "outputId": "3bb9cd42-69bb-450b-f422-bb3b950f52eb"
      },
      "source": [
        "#we are using ImageDataGenerator to read images from directories\n",
        "from keras.preprocessing.image import ImageDataGenerator\n",
        "\n",
        "train_datagen = ImageDataGenerator(rescale=1/255)\n",
        "valid_datagen= ImageDataGenerator(rescale=1/255)\n",
        "\n",
        "\n",
        "train_generator = train_datagen.flow_from_directory(\n",
        "  train_dir, target_size=(32,32), shuffle=True, class_mode= \"binary\",  batch_size=32)\n",
        "\n",
        "valid_generator= valid_datagen.flow_from_directory(\n",
        "    valid_dir,  target_size=(32,32),\n",
        "    batch_size=32,shuffle=True,\n",
        "    class_mode='binary')\n"
      ],
      "execution_count": 30,
      "outputs": [
        {
          "output_type": "stream",
          "text": [
            "Found 17500 images belonging to 2 classes.\n",
            "Found 4000 images belonging to 2 classes.\n"
          ],
          "name": "stdout"
        }
      ]
    },
    {
      "cell_type": "markdown",
      "metadata": {
        "id": "VNI1UJcVUJkL",
        "colab_type": "text"
      },
      "source": [
        "# Model"
      ]
    },
    {
      "cell_type": "code",
      "metadata": {
        "id": "a9RkKtPTXOJg",
        "colab_type": "code",
        "colab": {}
      },
      "source": [
        "from keras import backend\n",
        "backend.clear_session()"
      ],
      "execution_count": 31,
      "outputs": []
    },
    {
      "cell_type": "code",
      "metadata": {
        "id": "5LXu5ijvQpLw",
        "colab_type": "code",
        "colab": {
          "base_uri": "https://localhost:8080/",
          "height": 641
        },
        "outputId": "1fae7e69-932e-4fe6-e678-c2d1fa0faf7e"
      },
      "source": [
        "from keras import models\n",
        "from keras import layers\n",
        "\n",
        "model=models.Sequential()\n",
        "model.add(layers.Conv2D(32, (3,3), activation=\"relu\", input_shape=(32, 32, 3)))\n",
        "model.add(layers.Conv2D(32, (3,3), activation=\"relu\"))\n",
        "model.add(layers.BatchNormalization())\n",
        "model.add(layers.MaxPooling2D((2,2)))\n",
        "model.add(layers.Dropout(0.25))\n",
        "\n",
        "\n",
        "\n",
        "model.add(layers.Conv2D(64, (3,3), activation=\"relu\"))\n",
        "model.add(layers.Conv2D(64, (3,3), activation=\"relu\"))\n",
        "model.add(layers.BatchNormalization())\n",
        "model.add(layers.MaxPooling2D((2,2)))\n",
        "model.add(layers.Dropout(0.25))\n",
        "model.add(layers.Flatten())\n",
        "model.add(layers.Dense(512, activation=\"relu\"))\n",
        "model.add(layers.Dropout(0.5))\n",
        "model.add(layers.Dense(1, activation=\"sigmoid\"))\n",
        "model.summary()"
      ],
      "execution_count": 32,
      "outputs": [
        {
          "output_type": "stream",
          "text": [
            "Model: \"sequential_1\"\n",
            "_________________________________________________________________\n",
            "Layer (type)                 Output Shape              Param #   \n",
            "=================================================================\n",
            "conv2d_1 (Conv2D)            (None, 30, 30, 32)        896       \n",
            "_________________________________________________________________\n",
            "conv2d_2 (Conv2D)            (None, 28, 28, 32)        9248      \n",
            "_________________________________________________________________\n",
            "batch_normalization_1 (Batch (None, 28, 28, 32)        128       \n",
            "_________________________________________________________________\n",
            "max_pooling2d_1 (MaxPooling2 (None, 14, 14, 32)        0         \n",
            "_________________________________________________________________\n",
            "dropout_1 (Dropout)          (None, 14, 14, 32)        0         \n",
            "_________________________________________________________________\n",
            "conv2d_3 (Conv2D)            (None, 12, 12, 64)        18496     \n",
            "_________________________________________________________________\n",
            "conv2d_4 (Conv2D)            (None, 10, 10, 64)        36928     \n",
            "_________________________________________________________________\n",
            "batch_normalization_2 (Batch (None, 10, 10, 64)        256       \n",
            "_________________________________________________________________\n",
            "max_pooling2d_2 (MaxPooling2 (None, 5, 5, 64)          0         \n",
            "_________________________________________________________________\n",
            "dropout_2 (Dropout)          (None, 5, 5, 64)          0         \n",
            "_________________________________________________________________\n",
            "flatten_1 (Flatten)          (None, 1600)              0         \n",
            "_________________________________________________________________\n",
            "dense_1 (Dense)              (None, 512)               819712    \n",
            "_________________________________________________________________\n",
            "dropout_3 (Dropout)          (None, 512)               0         \n",
            "_________________________________________________________________\n",
            "dense_2 (Dense)              (None, 1)                 513       \n",
            "=================================================================\n",
            "Total params: 886,177\n",
            "Trainable params: 885,985\n",
            "Non-trainable params: 192\n",
            "_________________________________________________________________\n"
          ],
          "name": "stdout"
        }
      ]
    },
    {
      "cell_type": "code",
      "metadata": {
        "id": "q_3v_zoiU_hE",
        "colab_type": "code",
        "colab": {
          "base_uri": "https://localhost:8080/",
          "height": 35
        },
        "outputId": "c657f2dc-b7ec-4b2d-d769-a65fae214886"
      },
      "source": [
        "model.compile(loss=\"binary_crossentropy\", \n",
        "             optimizer='rmsprop',\n",
        "             metrics=[\"accuracy\"])\n",
        "print(\"[INFO]: model compiled...\")"
      ],
      "execution_count": 33,
      "outputs": [
        {
          "output_type": "stream",
          "text": [
            "[INFO]: model compiled...\n"
          ],
          "name": "stdout"
        }
      ]
    },
    {
      "cell_type": "code",
      "metadata": {
        "id": "qsesvnT2VD1k",
        "colab_type": "code",
        "colab": {
          "base_uri": "https://localhost:8080/",
          "height": 384
        },
        "outputId": "1b1d7a86-f38d-45c6-ff04-b39ea836176a"
      },
      "source": [
        "history = model.fit_generator(train_generator,  epochs=10, validation_data= valid_generator)"
      ],
      "execution_count": 34,
      "outputs": [
        {
          "output_type": "stream",
          "text": [
            "Epoch 1/10\n",
            "547/547 [==============================] - 82s 150ms/step - loss: 0.1507 - accuracy: 0.9551 - val_loss: 1.1485 - val_accuracy: 0.7088\n",
            "Epoch 2/10\n",
            "547/547 [==============================] - 81s 149ms/step - loss: 0.0533 - accuracy: 0.9852 - val_loss: 0.1319 - val_accuracy: 0.9613\n",
            "Epoch 3/10\n",
            "547/547 [==============================] - 81s 149ms/step - loss: 0.0338 - accuracy: 0.9923 - val_loss: 0.4217 - val_accuracy: 0.9560\n",
            "Epoch 4/10\n",
            "547/547 [==============================] - 82s 150ms/step - loss: 0.0329 - accuracy: 0.9931 - val_loss: 0.0036 - val_accuracy: 0.9137\n",
            "Epoch 5/10\n",
            "547/547 [==============================] - 87s 160ms/step - loss: 0.0257 - accuracy: 0.9943 - val_loss: 0.0135 - val_accuracy: 0.9778\n",
            "Epoch 6/10\n",
            "547/547 [==============================] - 81s 149ms/step - loss: 0.0231 - accuracy: 0.9954 - val_loss: 0.2387 - val_accuracy: 0.9553\n",
            "Epoch 7/10\n",
            "547/547 [==============================] - 81s 149ms/step - loss: 0.0151 - accuracy: 0.9970 - val_loss: 0.3591 - val_accuracy: 0.9728\n",
            "Epoch 8/10\n",
            "547/547 [==============================] - 82s 149ms/step - loss: 0.0142 - accuracy: 0.9974 - val_loss: 1.0502e-07 - val_accuracy: 0.9893\n",
            "Epoch 9/10\n",
            "547/547 [==============================] - 81s 148ms/step - loss: 0.0150 - accuracy: 0.9979 - val_loss: 0.4847 - val_accuracy: 0.9780\n",
            "Epoch 10/10\n",
            "547/547 [==============================] - 81s 149ms/step - loss: 0.0134 - accuracy: 0.9975 - val_loss: 4.2612e-05 - val_accuracy: 0.9927\n"
          ],
          "name": "stdout"
        }
      ]
    },
    {
      "cell_type": "code",
      "metadata": {
        "id": "gXK-3kI5XI4z",
        "colab_type": "code",
        "colab": {
          "base_uri": "https://localhost:8080/",
          "height": 545
        },
        "outputId": "384e2aa2-ad8e-4940-941f-5fcabd4debc1"
      },
      "source": [
        "import matplotlib.pyplot as plt\n",
        "\n",
        "acc= history.history['accuracy']\n",
        "val_acc = history.history['val_accuracy']\n",
        "loss=history.history['loss']\n",
        "val_loss=history.history['val_loss']\n",
        "\n",
        "epochs = range(1, len(acc)+1)\n",
        "\n",
        "plt.plot(epochs, acc, 'bo', label='Training Accuracy')\n",
        "plt.plot(epochs, val_acc, 'b', label='Validation Accuracy')\n",
        "plt.title('Training and Validation Accuracy')\n",
        "plt.legend()\n",
        "plt.figure()\n",
        "\n",
        "plt.plot(epochs, loss, 'bo', label='Training Loss')\n",
        "plt.plot(epochs, val_loss, 'b', label='Validation Loss')\n",
        "plt.title('Training and Validation Loss')\n",
        "plt.legend()\n",
        "\n",
        "plt.show()\n",
        "\n"
      ],
      "execution_count": 35,
      "outputs": [
        {
          "output_type": "display_data",
          "data": {
            "image/png": "[encoded data removed]",
            "text/plain": [
              "<Figure size 432x288 with 1 Axes>"
            ]
          },
          "metadata": {
            "tags": [],
            "needs_background": "light"
          }
        },
        {
          "output_type": "display_data",
          "data": {
            "image/png": "[encoded data removed]",
            "text/plain": [
              "<Figure size 432x288 with 1 Axes>"
            ]
          },
          "metadata": {
            "tags": [],
            "needs_background": "light"
          }
        }
      ]
    },
    {
      "cell_type": "markdown",
      "metadata": {
        "id": "R4CJcC1YWWsi",
        "colab_type": "text"
      },
      "source": [
        "# Data Augmentation"
      ]
    },
    {
      "cell_type": "code",
      "metadata": {
        "id": "pzp7ByI-XEG8",
        "colab_type": "code",
        "colab": {}
      },
      "source": [
        "from keras import backend\n",
        "backend.clear_session()"
      ],
      "execution_count": 36,
      "outputs": []
    },
    {
      "cell_type": "markdown",
      "metadata": {
        "id": "op-dqu10Wacl",
        "colab_type": "text"
      },
      "source": [
        "## Preprocessing"
      ]
    },
    {
      "cell_type": "code",
      "metadata": {
        "id": "k7pIDt7DWczT",
        "colab_type": "code",
        "colab": {
          "base_uri": "https://localhost:8080/",
          "height": 52
        },
        "outputId": "e5de5ce9-be6f-4cd1-cfa1-e2117783b9df"
      },
      "source": [
        "#we are using ImageDataGenerator to read images from directories\n",
        "from keras.preprocessing.image import ImageDataGenerator\n",
        "\n",
        "train_datagen = ImageDataGenerator(rescale=1/255,  rotation_range =40, \n",
        "                                   width_shift_range=0.2, height_shift_range=0.2, \n",
        "                                   shear_range=0.2, zoom_range=0.2, \n",
        "                                   horizontal_flip=True)\n",
        "valid_datagen= ImageDataGenerator(rescale=1/255)\n",
        "\n",
        "\n",
        "train_generator = train_datagen.flow_from_directory(\n",
        "  train_dir, target_size=(32,32), shuffle=True, class_mode= \"binary\",  batch_size=32)\n",
        "\n",
        "valid_generator= valid_datagen.flow_from_directory(\n",
        "    valid_dir,  target_size=(32,32),\n",
        "    batch_size=32,shuffle=True,\n",
        "    class_mode='binary')\n"
      ],
      "execution_count": 43,
      "outputs": [
        {
          "output_type": "stream",
          "text": [
            "Found 17500 images belonging to 2 classes.\n",
            "Found 4000 images belonging to 2 classes.\n"
          ],
          "name": "stdout"
        }
      ]
    },
    {
      "cell_type": "code",
      "metadata": {
        "id": "Whkcn1j7W666",
        "colab_type": "code",
        "colab": {
          "base_uri": "https://localhost:8080/",
          "height": 641
        },
        "outputId": "2a293514-2607-4fcf-bddf-4dbc0f51a875"
      },
      "source": [
        "from keras import models\n",
        "from keras import layers\n",
        "\n",
        "model=models.Sequential()\n",
        "model.add(layers.Conv2D(32, (3,3), activation=\"relu\", input_shape=(32, 32, 3)))\n",
        "model.add(layers.Conv2D(32, (3,3), activation=\"relu\"))\n",
        "model.add(layers.BatchNormalization())\n",
        "model.add(layers.MaxPooling2D((2,2)))\n",
        "model.add(layers.Dropout(0.25))\n",
        "\n",
        "\n",
        "model.add(layers.Conv2D(64, (3,3), activation=\"relu\"))\n",
        "model.add(layers.Conv2D(64, (3,3), activation=\"relu\"))\n",
        "model.add(layers.BatchNormalization())\n",
        "model.add(layers.MaxPooling2D((2,2)))\n",
        "model.add(layers.Dropout(0.25))\n",
        "model.add(layers.Flatten())\n",
        "model.add(layers.Dense(512, activation=\"relu\"))\n",
        "model.add(layers.Dropout(0.5))\n",
        "model.add(layers.Dense(1, activation=\"sigmoid\"))\n",
        "model.summary()"
      ],
      "execution_count": 44,
      "outputs": [
        {
          "output_type": "stream",
          "text": [
            "Model: \"sequential_2\"\n",
            "_________________________________________________________________\n",
            "Layer (type)                 Output Shape              Param #   \n",
            "=================================================================\n",
            "conv2d_5 (Conv2D)            (None, 30, 30, 32)        896       \n",
            "_________________________________________________________________\n",
            "conv2d_6 (Conv2D)            (None, 28, 28, 32)        9248      \n",
            "_________________________________________________________________\n",
            "batch_normalization_3 (Batch (None, 28, 28, 32)        128       \n",
            "_________________________________________________________________\n",
            "max_pooling2d_3 (MaxPooling2 (None, 14, 14, 32)        0         \n",
            "_________________________________________________________________\n",
            "dropout_4 (Dropout)          (None, 14, 14, 32)        0         \n",
            "_________________________________________________________________\n",
            "conv2d_7 (Conv2D)            (None, 12, 12, 64)        18496     \n",
            "_________________________________________________________________\n",
            "conv2d_8 (Conv2D)            (None, 10, 10, 64)        36928     \n",
            "_________________________________________________________________\n",
            "batch_normalization_4 (Batch (None, 10, 10, 64)        256       \n",
            "_________________________________________________________________\n",
            "max_pooling2d_4 (MaxPooling2 (None, 5, 5, 64)          0         \n",
            "_________________________________________________________________\n",
            "dropout_5 (Dropout)          (None, 5, 5, 64)          0         \n",
            "_________________________________________________________________\n",
            "flatten_2 (Flatten)          (None, 1600)              0         \n",
            "_________________________________________________________________\n",
            "dense_3 (Dense)              (None, 512)               819712    \n",
            "_________________________________________________________________\n",
            "dropout_6 (Dropout)          (None, 512)               0         \n",
            "_________________________________________________________________\n",
            "dense_4 (Dense)              (None, 1)                 513       \n",
            "=================================================================\n",
            "Total params: 886,177\n",
            "Trainable params: 885,985\n",
            "Non-trainable params: 192\n",
            "_________________________________________________________________\n"
          ],
          "name": "stdout"
        }
      ]
    },
    {
      "cell_type": "code",
      "metadata": {
        "id": "bf-akzarW96S",
        "colab_type": "code",
        "colab": {
          "base_uri": "https://localhost:8080/",
          "height": 35
        },
        "outputId": "9fea2f23-bc01-46ba-f52d-1dcfdf989d4f"
      },
      "source": [
        "model.compile(loss=\"binary_crossentropy\", \n",
        "             optimizer='rmsprop',\n",
        "             metrics=[\"accuracy\"])\n",
        "print(\"[INFO]: model compiled...\")"
      ],
      "execution_count": 45,
      "outputs": [
        {
          "output_type": "stream",
          "text": [
            "[INFO]: model compiled...\n"
          ],
          "name": "stdout"
        }
      ]
    },
    {
      "cell_type": "code",
      "metadata": {
        "id": "fd7bqRzEXCIZ",
        "colab_type": "code",
        "colab": {
          "base_uri": "https://localhost:8080/",
          "height": 384
        },
        "outputId": "3aefec2c-2bbe-46a3-ae3d-b72e52367c10"
      },
      "source": [
        "history = model.fit_generator(train_generator,  epochs=10, validation_data= valid_generator)"
      ],
      "execution_count": 46,
      "outputs": [
        {
          "output_type": "stream",
          "text": [
            "Epoch 1/10\n",
            "547/547 [==============================] - 92s 167ms/step - loss: 0.2480 - accuracy: 0.9203 - val_loss: 0.3994 - val_accuracy: 0.8455\n",
            "Epoch 2/10\n",
            "547/547 [==============================] - 95s 174ms/step - loss: 0.1366 - accuracy: 0.9489 - val_loss: 3.5917 - val_accuracy: 0.7508\n",
            "Epoch 3/10\n",
            "547/547 [==============================] - 90s 165ms/step - loss: 0.1189 - accuracy: 0.9605 - val_loss: 2.7413 - val_accuracy: 0.8213\n",
            "Epoch 4/10\n",
            "547/547 [==============================] - 90s 165ms/step - loss: 0.1037 - accuracy: 0.9651 - val_loss: 0.6259 - val_accuracy: 0.9135\n",
            "Epoch 5/10\n",
            "547/547 [==============================] - 90s 165ms/step - loss: 0.0969 - accuracy: 0.9695 - val_loss: 6.2648 - val_accuracy: 0.7857\n",
            "Epoch 6/10\n",
            "547/547 [==============================] - 91s 166ms/step - loss: 0.0945 - accuracy: 0.9718 - val_loss: 0.0678 - val_accuracy: 0.9377\n",
            "Epoch 7/10\n",
            "547/547 [==============================] - 90s 165ms/step - loss: 0.0826 - accuracy: 0.9752 - val_loss: 0.4033 - val_accuracy: 0.9383\n",
            "Epoch 8/10\n",
            "547/547 [==============================] - 95s 174ms/step - loss: 0.0882 - accuracy: 0.9713 - val_loss: 0.0154 - val_accuracy: 0.9735\n",
            "Epoch 9/10\n",
            "547/547 [==============================] - 91s 166ms/step - loss: 0.0844 - accuracy: 0.9737 - val_loss: 0.2137 - val_accuracy: 0.8960\n",
            "Epoch 10/10\n",
            "547/547 [==============================] - 90s 165ms/step - loss: 0.0791 - accuracy: 0.9777 - val_loss: 8.7634 - val_accuracy: 0.7673\n"
          ],
          "name": "stdout"
        }
      ]
    },
    {
      "cell_type": "code",
      "metadata": {
        "id": "LHA7vrLJXKQy",
        "colab_type": "code",
        "colab": {
          "base_uri": "https://localhost:8080/",
          "height": 545
        },
        "outputId": "0c55d340-538c-4602-ec4a-12bd650b0bd4"
      },
      "source": [
        "import matplotlib.pyplot as plt\n",
        "\n",
        "acc= history.history['accuracy']\n",
        "val_acc = history.history['val_accuracy']\n",
        "loss=history.history['loss']\n",
        "val_loss=history.history['val_loss']\n",
        "\n",
        "epochs = range(1, len(acc)+1)\n",
        "\n",
        "plt.plot(epochs, acc, 'bo', label='Training Accuracy')\n",
        "plt.plot(epochs, val_acc, 'b', label='Validation Accuracy')\n",
        "plt.title('Training and Validation Accuracy')\n",
        "plt.legend()\n",
        "plt.figure()\n",
        "\n",
        "plt.plot(epochs, loss, 'bo', label='Training Loss')\n",
        "plt.plot(epochs, val_loss, 'b', label='Validation Loss')\n",
        "plt.title('Training and Validation Loss')\n",
        "plt.legend()\n",
        "\n",
        "plt.show()\n",
        "\n"
      ],
      "execution_count": 47,
      "outputs": [
        {
          "output_type": "display_data",
          "data": {
            "image/png": "[encoded data removed]",
            "text/plain": [
              "<Figure size 432x288 with 1 Axes>"
            ]
          },
          "metadata": {
            "tags": [],
            "needs_background": "light"
          }
        },
        {
          "output_type": "display_data",
          "data": {
            "image/png": "[encoded data removed]",
            "text/plain": [
              "<Figure size 432x288 with 1 Axes>"
            ]
          },
          "metadata": {
            "tags": [],
            "needs_background": "light"
          }
        }
      ]
    }
  ]
}